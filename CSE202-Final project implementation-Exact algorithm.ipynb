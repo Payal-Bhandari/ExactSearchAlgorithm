{
 "cells": [
  {
   "cell_type": "code",
   "execution_count": 129,
   "id": "a648614e",
   "metadata": {},
   "outputs": [],
   "source": [
    "from collections import deque\n",
    "from collections import defaultdict\n",
    "import numpy as np\n",
    "import random"
   ]
  },
  {
   "cell_type": "markdown",
   "id": "520e13bd",
   "metadata": {},
   "source": [
    "### Daily update of edge queue"
   ]
  },
  {
   "cell_type": "code",
   "execution_count": 217,
   "id": "0501bbc6",
   "metadata": {},
   "outputs": [],
   "source": [
    "def dailyUpdateEdgeQueue(edge_map, D = 14):\n",
    "    for edge_key in edge_map:\n",
    "        edge_queue = edge_map[edge_key]\n",
    "        edge_queue = deque([day_val + 1 for day_val in edge_queue])\n",
    "        if edge_queue[0] > D:\n",
    "            edge_queue.popleft()\n",
    "        edge_map[edge_key] = edge_queue\n",
    "        # check if the queue is empty => edge needs to be deleted\n",
    "        if len(edge_queue) == 0:\n",
    "            deleteEdge(edge_key)\n",
    "            del edge_map[edge_key]\n",
    "\n",
    "    return edge_map"
   ]
  },
  {
   "cell_type": "code",
   "execution_count": 131,
   "id": "068a206c",
   "metadata": {},
   "outputs": [],
   "source": [
    "que1 = deque([3, 2])\n",
    "que2 = deque([4, 1])\n",
    "edge_map = {'key1': que1, 'key2': que2}"
   ]
  },
  {
   "cell_type": "code",
   "execution_count": 132,
   "id": "defe200c",
   "metadata": {},
   "outputs": [
    {
     "data": {
      "text/plain": [
       "{'key1': deque([4, 3]), 'key2': deque([5, 2])}"
      ]
     },
     "execution_count": 132,
     "metadata": {},
     "output_type": "execute_result"
    }
   ],
   "source": [
    "dailyUpdateEdgeQueue(edge_map)"
   ]
  },
  {
   "cell_type": "markdown",
   "id": "c819e195",
   "metadata": {},
   "source": [
    "### Daily update of adjacency list based on the interactions"
   ]
  },
  {
   "cell_type": "code",
   "execution_count": 133,
   "id": "c899689c",
   "metadata": {},
   "outputs": [],
   "source": [
    "def updateAdjacencyList(interaction_data, edge_map, adj_list):\n",
    "    for pair in interaction_data:\n",
    "        p1, p2 = pair\n",
    "        key = p1 + '_' + p2\n",
    "        #print(key)\n",
    "        \n",
    "        # if p1, p3 edge was not present - as its undirected graph, if p2 not present in adj list of p1\n",
    "        # the vice versa applies\n",
    "        edge_present = 0\n",
    "        # if edge is present - just update the edge_queue to add today's interaction\n",
    "        for neighbor in adj_list[p1]:\n",
    "            neighb, edge_key = neighbor\n",
    "            if neighb == p2:\n",
    "                edge_present = 1\n",
    "                edge_map[edge_key].append(1)\n",
    "        # if edge is not present, then add the edge and create the edge_key\n",
    "        if edge_present != 1:\n",
    "            edge_map[key] = deque([1])\n",
    "            adj_list[p1].append((p2, key))\n",
    "            adj_list[p2].append((p1, key))\n",
    "            \n",
    "    return adj_list, edge_map"
   ]
  },
  {
   "cell_type": "markdown",
   "id": "50cd62f6",
   "metadata": {},
   "source": [
    "### Testing the above functions for 2 days"
   ]
  },
  {
   "cell_type": "code",
   "execution_count": 134,
   "id": "e4071d6d",
   "metadata": {},
   "outputs": [],
   "source": [
    "adj_list = defaultdict(list)\n",
    "edge_map = defaultdict()\n",
    "\n",
    "interaction_data = [('u1', 'u2'), ('u1', 'u3'), ('u3', 'u4')]\n",
    "adj_list, edge_map = updateAdjacencyList(interaction_data, edge_map, adj_list)"
   ]
  },
  {
   "cell_type": "code",
   "execution_count": 135,
   "id": "7ced8e2d",
   "metadata": {},
   "outputs": [
    {
     "data": {
      "text/plain": [
       "defaultdict(list,\n",
       "            {'u1': [('u2', 'u1_u2'), ('u3', 'u1_u3')],\n",
       "             'u2': [('u1', 'u1_u2')],\n",
       "             'u3': [('u1', 'u1_u3'), ('u4', 'u3_u4')],\n",
       "             'u4': [('u3', 'u3_u4')]})"
      ]
     },
     "execution_count": 135,
     "metadata": {},
     "output_type": "execute_result"
    }
   ],
   "source": [
    "adj_list"
   ]
  },
  {
   "cell_type": "code",
   "execution_count": 136,
   "id": "19445b2c",
   "metadata": {},
   "outputs": [
    {
     "data": {
      "text/plain": [
       "defaultdict(None,\n",
       "            {'u1_u2': deque([1]), 'u1_u3': deque([1]), 'u3_u4': deque([1])})"
      ]
     },
     "execution_count": 136,
     "metadata": {},
     "output_type": "execute_result"
    }
   ],
   "source": [
    "edge_map"
   ]
  },
  {
   "cell_type": "code",
   "execution_count": 137,
   "id": "26778d57",
   "metadata": {},
   "outputs": [
    {
     "data": {
      "text/plain": [
       "defaultdict(None,\n",
       "            {'u1_u2': deque([2]), 'u1_u3': deque([2]), 'u3_u4': deque([2])})"
      ]
     },
     "execution_count": 137,
     "metadata": {},
     "output_type": "execute_result"
    }
   ],
   "source": [
    "dailyUpdateEdgeQueue(edge_map)"
   ]
  },
  {
   "cell_type": "code",
   "execution_count": 138,
   "id": "e4dde990",
   "metadata": {},
   "outputs": [],
   "source": [
    "interaction_data = [('u1', 'u5'), ('u1', 'u3')]\n",
    "adj_list, edge_map = updateAdjacencyList(interaction_data, edge_map, adj_list)"
   ]
  },
  {
   "cell_type": "code",
   "execution_count": 139,
   "id": "d731db94",
   "metadata": {},
   "outputs": [
    {
     "data": {
      "text/plain": [
       "defaultdict(None,\n",
       "            {'u1_u2': deque([2]),\n",
       "             'u1_u3': deque([2, 1]),\n",
       "             'u3_u4': deque([2]),\n",
       "             'u1_u5': deque([1])})"
      ]
     },
     "execution_count": 139,
     "metadata": {},
     "output_type": "execute_result"
    }
   ],
   "source": [
    "edge_map"
   ]
  },
  {
   "cell_type": "code",
   "execution_count": 140,
   "id": "1aedb1a8",
   "metadata": {
    "scrolled": true
   },
   "outputs": [
    {
     "data": {
      "text/plain": [
       "defaultdict(list,\n",
       "            {'u1': [('u2', 'u1_u2'), ('u3', 'u1_u3'), ('u5', 'u1_u5')],\n",
       "             'u2': [('u1', 'u1_u2')],\n",
       "             'u3': [('u1', 'u1_u3'), ('u4', 'u3_u4')],\n",
       "             'u4': [('u3', 'u3_u4')],\n",
       "             'u5': [('u1', 'u1_u5')]})"
      ]
     },
     "execution_count": 140,
     "metadata": {},
     "output_type": "execute_result"
    }
   ],
   "source": [
    "adj_list"
   ]
  },
  {
   "cell_type": "markdown",
   "id": "28478a97",
   "metadata": {},
   "source": [
    "### Deleting an edge if edge queue becomes empty"
   ]
  },
  {
   "cell_type": "code",
   "execution_count": 141,
   "id": "6ec7457b",
   "metadata": {},
   "outputs": [],
   "source": [
    "def deleteEdge(edge_key, adj_list):\n",
    "    p1, p2 = edge_key.split('_')\n",
    "    adj_list[p1].remove((p2, edge_key))\n",
    "    adj_list[p2].remove((p1, edge_key))\n",
    "    \n",
    "    return adj_list"
   ]
  },
  {
   "cell_type": "code",
   "execution_count": 142,
   "id": "45eed023",
   "metadata": {},
   "outputs": [
    {
     "data": {
      "text/plain": [
       "defaultdict(list,\n",
       "            {'u1': [('u3', 'u1_u3'), ('u5', 'u1_u5')],\n",
       "             'u2': [],\n",
       "             'u3': [('u1', 'u1_u3'), ('u4', 'u3_u4')],\n",
       "             'u4': [('u3', 'u3_u4')],\n",
       "             'u5': [('u1', 'u1_u5')]})"
      ]
     },
     "execution_count": 142,
     "metadata": {},
     "output_type": "execute_result"
    }
   ],
   "source": [
    "deleteEdge('u1_u2', adj_list)"
   ]
  },
  {
   "cell_type": "code",
   "execution_count": 143,
   "id": "10a0d0fa",
   "metadata": {},
   "outputs": [],
   "source": [
    "def getInfectedIndList(infected_map):\n",
    "    infected_list = []\n",
    "    for uid in infected_map:\n",
    "        infected_list.append(uid)\n",
    "        \n",
    "    return infected_list"
   ]
  },
  {
   "cell_type": "code",
   "execution_count": 144,
   "id": "a6a81050",
   "metadata": {},
   "outputs": [],
   "source": [
    "infected_map = {'u1': ['Name', 1, 10], 'u2': ['Name', 0, 9]}\n",
    "\n",
    "infected_list = getInfectedIndList(infected_map)"
   ]
  },
  {
   "cell_type": "markdown",
   "id": "93e15cd3",
   "metadata": {},
   "source": [
    "### Checking the edge queues to trace indirect contacts possible infection"
   ]
  },
  {
   "cell_type": "code",
   "execution_count": 145,
   "id": "65bf74c1",
   "metadata": {},
   "outputs": [],
   "source": [
    "def indirectContactTrace(key1, key2, edge_map):\n",
    "    # edge queue between parent and its parent\n",
    "    queue1 = edge_map[key1]\n",
    "    \n",
    "    # edge queue between current vertex and its parent\n",
    "    queue2 = edge_map[key2]\n",
    "    \n",
    "    max_q1 = queue1[0]\n",
    "    min_q2 = queue2[-1]\n",
    "    \n",
    "    # This means that there is no infection\n",
    "    if max_q1 < min_q2:\n",
    "        return False\n",
    "    \n",
    "    return True"
   ]
  },
  {
   "cell_type": "markdown",
   "id": "78c4b1f6",
   "metadata": {},
   "source": [
    "### BFS to trace possibly infected people"
   ]
  },
  {
   "cell_type": "code",
   "execution_count": 146,
   "id": "97260374",
   "metadata": {},
   "outputs": [],
   "source": [
    "def tracingBFS(infected_list, adj_list, edge_map):\n",
    "    visited = []\n",
    "    possible_infected = []\n",
    "    possible_infected_with_severity = []\n",
    "    bfs_queue = deque()\n",
    "    level = 1\n",
    "    \n",
    "    # Insert the list of all direct contacts of the infected people to the queue\n",
    "    for vertex in infected_list:\n",
    "        visited.append(vertex)\n",
    "        # go through all the neighbors of an infected vertex\n",
    "        for neighbor in adj_list[vertex]:\n",
    "            p2, _ = neighbor\n",
    "            #print('hi: ', p2, level)\n",
    "            visited.append(p2)\n",
    "            possible_infected.append(p2)\n",
    "            bfs_queue.append(neighbor)\n",
    "            \n",
    "    # add a delimiter in the queue to mark that one level is completed\n",
    "    bfs_queue.append((0, 0))\n",
    "    \n",
    "    while len(bfs_queue) != 0:\n",
    "        current_vertex = bfs_queue.popleft()\n",
    "        p1, key1 = current_vertex\n",
    "        if level == 1:\n",
    "            level = level + 1\n",
    "        \n",
    "        # This implies a delimiter is reached\n",
    "        if p1 == 0 and key1 == 0:\n",
    "            level = level + 1\n",
    "            if len (bfs_queue) > 0:\n",
    "                bfs_queue.append((0, 0))\n",
    "            continue\n",
    "            \n",
    "        for neighbor in adj_list[p1]:\n",
    "            p2, key2 = neighbor\n",
    "            if p2 not in visited and indirectContactTrace(key1, key2, edge_map):\n",
    "                #print('hi: ', p2, level)\n",
    "                visited.append(p2)\n",
    "                possible_infected.append(p2)\n",
    "                bfs_queue.append(p2)\n",
    "                \n",
    "    return possible_infected"
   ]
  },
  {
   "cell_type": "markdown",
   "id": "d134460b",
   "metadata": {},
   "source": [
    "### Testing the algorithm for the first 5 days"
   ]
  },
  {
   "cell_type": "code",
   "execution_count": 54,
   "id": "6d27b6f8",
   "metadata": {},
   "outputs": [
    {
     "name": "stdout",
     "output_type": "stream",
     "text": [
      "defaultdict(<class 'list'>, {'u2': [('u6', 'u2_u6')], 'u6': [('u2', 'u2_u6')]})\n",
      "defaultdict(None, {'u2_u6': deque([1])})\n"
     ]
    }
   ],
   "source": [
    "adj_list = defaultdict(list)\n",
    "edge_map = defaultdict()\n",
    "\n",
    "# day 1\n",
    "interaction_data = [('u2', 'u6')]\n",
    "adj_list, edge_map = updateAdjacencyList(interaction_data, edge_map, adj_list)\n",
    "print(adj_list)\n",
    "print(edge_map)"
   ]
  },
  {
   "cell_type": "code",
   "execution_count": 55,
   "id": "40bc404c",
   "metadata": {},
   "outputs": [
    {
     "name": "stdout",
     "output_type": "stream",
     "text": [
      "defaultdict(<class 'list'>, {'u2': [('u6', 'u2_u6')], 'u6': [('u2', 'u2_u6')], 'u1': [('u3', 'u1_u3')], 'u3': [('u1', 'u1_u3')]})\n",
      "defaultdict(None, {'u2_u6': deque([2, 1]), 'u1_u3': deque([1])})\n"
     ]
    }
   ],
   "source": [
    "# day 2\n",
    "dailyUpdateEdgeQueue(edge_map)\n",
    "interaction_data = [('u2', 'u6'), ('u1', 'u3')]\n",
    "adj_list, edge_map = updateAdjacencyList(interaction_data, edge_map, adj_list)\n",
    "print(adj_list)\n",
    "print(edge_map)"
   ]
  },
  {
   "cell_type": "code",
   "execution_count": 56,
   "id": "b5cea657",
   "metadata": {},
   "outputs": [
    {
     "name": "stdout",
     "output_type": "stream",
     "text": [
      "defaultdict(<class 'list'>, {'u2': [('u6', 'u2_u6'), ('u1', 'u1_u2')], 'u6': [('u2', 'u2_u6'), ('u3', 'u3_u6')], 'u1': [('u3', 'u1_u3'), ('u2', 'u1_u2')], 'u3': [('u1', 'u1_u3'), ('u6', 'u3_u6')], 'u5': [('u8', 'u5_u8')], 'u8': [('u5', 'u5_u8')]})\n",
      "defaultdict(None, {'u2_u6': deque([3, 2]), 'u1_u3': deque([2, 1]), 'u5_u8': deque([1]), 'u3_u6': deque([1]), 'u1_u2': deque([1])})\n"
     ]
    }
   ],
   "source": [
    "# day 3\n",
    "dailyUpdateEdgeQueue(edge_map)\n",
    "interaction_data = [('u5', 'u8'), ('u1', 'u3'), ('u3', 'u6'), ('u1', 'u2')]\n",
    "adj_list, edge_map = updateAdjacencyList(interaction_data, edge_map, adj_list)\n",
    "print(adj_list)\n",
    "print(edge_map)"
   ]
  },
  {
   "cell_type": "code",
   "execution_count": 57,
   "id": "2b865a97",
   "metadata": {},
   "outputs": [
    {
     "name": "stdout",
     "output_type": "stream",
     "text": [
      "defaultdict(<class 'list'>, {'u2': [('u6', 'u2_u6'), ('u1', 'u1_u2')], 'u6': [('u2', 'u2_u6'), ('u3', 'u3_u6')], 'u1': [('u3', 'u1_u3'), ('u2', 'u1_u2'), ('u5', 'u5_u1')], 'u3': [('u1', 'u1_u3'), ('u6', 'u3_u6')], 'u5': [('u8', 'u5_u8'), ('u1', 'u5_u1')], 'u8': [('u5', 'u5_u8')]})\n",
      "defaultdict(None, {'u2_u6': deque([4, 3]), 'u1_u3': deque([3, 2]), 'u5_u8': deque([2]), 'u3_u6': deque([2]), 'u1_u2': deque([2]), 'u5_u1': deque([1])})\n"
     ]
    }
   ],
   "source": [
    "# day 4\n",
    "dailyUpdateEdgeQueue(edge_map)\n",
    "interaction_data = [('u5', 'u1')]\n",
    "adj_list, edge_map = updateAdjacencyList(interaction_data, edge_map, adj_list)\n",
    "print(adj_list)\n",
    "print(edge_map)"
   ]
  },
  {
   "cell_type": "code",
   "execution_count": 58,
   "id": "6cde2363",
   "metadata": {},
   "outputs": [
    {
     "name": "stdout",
     "output_type": "stream",
     "text": [
      "defaultdict(<class 'list'>, {'u2': [('u6', 'u2_u6'), ('u1', 'u1_u2')], 'u6': [('u2', 'u2_u6'), ('u3', 'u3_u6')], 'u1': [('u3', 'u1_u3'), ('u2', 'u1_u2'), ('u5', 'u5_u1')], 'u3': [('u1', 'u1_u3'), ('u6', 'u3_u6')], 'u5': [('u8', 'u5_u8'), ('u1', 'u5_u1')], 'u8': [('u5', 'u5_u8')]})\n",
      "defaultdict(None, {'u2_u6': deque([5, 4]), 'u1_u3': deque([4, 3]), 'u5_u8': deque([3]), 'u3_u6': deque([3]), 'u1_u2': deque([3, 1]), 'u5_u1': deque([2])})\n"
     ]
    }
   ],
   "source": [
    "# day 5\n",
    "dailyUpdateEdgeQueue(edge_map)\n",
    "interaction_data = [('u1', 'u2')]\n",
    "adj_list, edge_map = updateAdjacencyList(interaction_data, edge_map, adj_list)\n",
    "print(adj_list)\n",
    "print(edge_map)"
   ]
  },
  {
   "cell_type": "code",
   "execution_count": 59,
   "id": "fa30d3dc",
   "metadata": {},
   "outputs": [],
   "source": [
    "infected_map = {'u1': ['Name', 1, 10]}\n",
    "\n",
    "infected_list = getInfectedIndList(infected_map)"
   ]
  },
  {
   "cell_type": "code",
   "execution_count": 60,
   "id": "360074eb",
   "metadata": {},
   "outputs": [
    {
     "name": "stdout",
     "output_type": "stream",
     "text": [
      "hi:  u3 1\n",
      "hi:  u2 1\n",
      "hi:  u5 1\n",
      "hi:  u6 2\n"
     ]
    },
    {
     "data": {
      "text/plain": [
       "['u3', 'u2', 'u5', 'u6']"
      ]
     },
     "execution_count": 60,
     "metadata": {},
     "output_type": "execute_result"
    }
   ],
   "source": [
    "possible_infected_5 = tracingBFS(infected_list, adj_list, edge_map)\n",
    "possible_infected_5"
   ]
  },
  {
   "cell_type": "code",
   "execution_count": 176,
   "id": "da1a7f61",
   "metadata": {},
   "outputs": [
    {
     "name": "stdout",
     "output_type": "stream",
     "text": [
      "Day 1 2\n",
      "Day 2 4\n",
      "Day 3 4\n",
      "Day 4 4\n",
      "Day 5 4\n",
      "Day 6 4\n",
      "Day 7 4\n",
      "Day 8 4\n",
      "Day 9 4\n",
      "Day 10 5\n",
      "Day 11 5\n",
      "Day 12 5\n",
      "Day 13 6\n",
      "Day 14 8\n",
      "Day 15 8\n"
     ]
    }
   ],
   "source": [
    "adj_list = defaultdict(list)\n",
    "edge_map = defaultdict()\n",
    "infected_list = []\n",
    "y_axis = []\n",
    "x_axis = []\n",
    "infected_list = ['u1', 'u2']\n",
    "for day in range(1,16):\n",
    "    n = random.randint(0,4)\n",
    "    interaction_data = []\n",
    "    for inter in range(n):\n",
    "        uid1 = random.randint(1,4)\n",
    "        x = random.randint(1,4)\n",
    "        if(x != uid1):\n",
    "            uid2 = x\n",
    "        else:\n",
    "            uid2 = 0\n",
    "        interaction_data.append(('u' + str(uid1), 'u'+str(uid2)))\n",
    "        #print(interaction_data\n",
    "    if day == 1: \n",
    "        adj_list, edge_map = updateAdjacencyList(interaction_data, edge_map, adj_list)\n",
    "    else:\n",
    "        dailyUpdateEdgeQueue(edge_map)\n",
    "        adj_list, edge_map = updateAdjacencyList(interaction_data, edge_map, adj_list)\n",
    "    \n",
    "    \n",
    "    possible_infected = tracingBFS(infected_list, adj_list, edge_map)\n",
    "    print (\"Day\", day, len(possible_infected))\n",
    "    y_axis.append(len(possible_infected))\n",
    "    x_axis.append(day)"
   ]
  },
  {
   "cell_type": "code",
   "execution_count": 177,
   "id": "705efef5",
   "metadata": {},
   "outputs": [],
   "source": [
    "import matplotlib.pyplot as plt"
   ]
  },
  {
   "cell_type": "code",
   "execution_count": 181,
   "id": "a5781f6a",
   "metadata": {},
   "outputs": [
    {
     "data": {
      "text/plain": [
       "[<matplotlib.lines.Line2D at 0x7fae210b1430>]"
      ]
     },
     "execution_count": 181,
     "metadata": {},
     "output_type": "execute_result"
    },
    {
     "data": {
      "image/png": "[encoded data removed]",
      "text/plain": [
       "<Figure size 432x288 with 1 Axes>"
      ]
     },
     "metadata": {
      "needs_background": "light"
     },
     "output_type": "display_data"
    }
   ],
   "source": [
    "plt.xlabel(\"The Dth Day\")\n",
    "plt.ylabel(\"Number of Possibly Infected Individuals\")\n",
    "plt.plot(x_axis,y_axis)"
   ]
  },
  {
   "cell_type": "code",
   "execution_count": 262,
   "id": "e41b74b5",
   "metadata": {},
   "outputs": [
    {
     "name": "stdout",
     "output_type": "stream",
     "text": [
      "Day 1 1\n",
      "Day 2 6\n",
      "Day 3 15\n",
      "Day 4 38\n",
      "Day 5 42\n",
      "Day 6 46\n",
      "Day 7 57\n",
      "Day 8 64\n",
      "Day 9 64\n",
      "Day 10 64\n",
      "Day 11 64\n",
      "Day 12 70\n",
      "Day 13 76\n",
      "Day 14 78\n",
      "Day 15 84\n"
     ]
    }
   ],
   "source": [
    "adj_list = defaultdict(list)\n",
    "edge_map = defaultdict()\n",
    "infected_list = []\n",
    "y1_axis = []\n",
    "x_axis = []\n",
    "infected_list = ['u1', 'u2']\n",
    "y2_axis = len(infected_list)\n",
    "for day in range(1,16):\n",
    "    n = random.randint(0,10)\n",
    "    interaction_data = []\n",
    "    for inter in range(n):\n",
    "        uid1 = random.randint(1,100)\n",
    "        x = random.randint(1,100)\n",
    "        if(x != uid1):\n",
    "            uid2 = x\n",
    "        else:\n",
    "            uid2 = 0\n",
    "        interaction_data.append(('u' + str(uid1), 'u'+str(uid2)))\n",
    "        #print(interaction_data\n",
    "    if day == 1: \n",
    "        adj_list, edge_map = updateAdjacencyList(interaction_data, edge_map, adj_list)\n",
    "    else:\n",
    "        dailyUpdateEdgeQueue(edge_map)\n",
    "        adj_list, edge_map = updateAdjacencyList(interaction_data, edge_map, adj_list)\n",
    "    \n",
    "    possible_infected = tracingBFS(infected_list, adj_list, edge_map)\n",
    "    print (\"Day\", day, len(possible_infected))\n",
    "    for i in possible_infected: \n",
    "        if i not in infected_list:\n",
    "            infected_list.append(i)\n",
    "    y1_axis.append(len(possible_infected))\n",
    "    x_axis.append(day)\n"
   ]
  },
  {
   "cell_type": "code",
   "execution_count": 263,
   "id": "85383664",
   "metadata": {},
   "outputs": [],
   "source": [
    "y1 = np.array(y1_axis)\n",
    "#y2 = np.array(y2_axis)\n",
    "x = np.array(x_axis)"
   ]
  },
  {
   "cell_type": "code",
   "execution_count": 264,
   "id": "4b995e5c",
   "metadata": {},
   "outputs": [
    {
     "name": "stdout",
     "output_type": "stream",
     "text": [
      "(15,)\n",
      "(15,)\n"
     ]
    }
   ],
   "source": [
    "print(y1.shape)\n",
    "#print(y2.shape)\n",
    "print(x.shape)"
   ]
  },
  {
   "cell_type": "code",
   "execution_count": 267,
   "id": "e2abe75d",
   "metadata": {},
   "outputs": [
    {
     "data": {
      "image/png": "[encoded data removed]",
      "text/plain": [
       "<Figure size 432x288 with 1 Axes>"
      ]
     },
     "metadata": {
      "needs_background": "light"
     },
     "output_type": "display_data"
    }
   ],
   "source": [
    "plt.plot(x, y1,  label = \"Possibly Infected People\")\n",
    "plt.xlabel(\"The Dth Day\")\n",
    "plt.ylabel(\"Number of Possibly Infected Individuals\")\n",
    "plt.axhline(y=2, color='r',label = \"Inital Infected People\")\n",
    "plt.legend()\n",
    "plt.show()"
   ]
  },
  {
   "cell_type": "code",
   "execution_count": 280,
   "id": "ec6eb649",
   "metadata": {},
   "outputs": [
    {
     "name": "stdout",
     "output_type": "stream",
     "text": [
      "Day 1 0\n",
      "Day 2 0\n",
      "Day 3 4\n",
      "Day 4 5\n",
      "Day 5 5\n",
      "Day 6 5\n",
      "Day 7 7\n",
      "Day 8 7\n",
      "Day 9 7\n",
      "Day 10 9\n",
      "Day 11 9\n",
      "Day 12 10\n",
      "Day 13 10\n",
      "Day 14 10\n",
      "Day 15 10\n",
      "defaultdict(<class 'list'>, {'u4': [('u8', 'u4_u8'), ('u7', 'u4_u7'), ('u9', 'u4_u9'), ('u5', 'u4_u5')], 'u8': [('u4', 'u4_u8'), ('u3', 'u3_u8'), ('u2', 'u2_u8')], 'u1': [('u10', 'u1_u10'), ('u7', 'u1_u7'), ('u9', 'u1_u9'), ('u6', 'u1_u6')], 'u2': [('u5', 'u2_u5'), ('u8', 'u2_u8'), ('u6', 'u2_u6')], 'u0': [('u5', 'u0_u5'), ('u6', 'u0_u6'), ('u9', 'u0_u9')], 'u5': [('u0', 'u0_u5'), ('u10', 'u5_u10'), ('u9', 'u5_u9'), ('u2', 'u2_u5'), ('u3', 'u3_u5'), ('u4', 'u4_u5')], 'u10': [('u5', 'u5_u10'), ('u1', 'u1_u10'), ('u3', 'u3_u10')], 'u9': [('u5', 'u5_u9'), ('u1', 'u1_u9'), ('u0', 'u0_u9'), ('u4', 'u4_u9')], 'u3': [('u10', 'u3_u10'), ('u8', 'u3_u8'), ('u5', 'u3_u5'), ('u6', 'u3_u6')], 'u7': [('u1', 'u1_u7'), ('u4', 'u4_u7')], 'u': [], 'u6': [('u0', 'u0_u6'), ('u1', 'u1_u6'), ('u2', 'u2_u6'), ('u3', 'u3_u6')]})\n"
     ]
    }
   ],
   "source": [
    "adj_list = defaultdict(list)\n",
    "edge_map = defaultdict()\n",
    "infected_list = []\n",
    "y_axis = []\n",
    "x_axis = []\n",
    "infected_list = ['u1', 'u2']\n",
    "for day in range(1,16):\n",
    "    n = random.randint(0,4)\n",
    "    interaction_data = []\n",
    "    for inter in range(n):\n",
    "        uid1 = random.randint(0,5)\n",
    "        uid2 = random.randint(5,10)\n",
    "        \n",
    "        interaction_data.append(('u' + str(uid1), 'u'+str(uid2)))\n",
    "        #print(interaction_data\n",
    "    if day == 1: \n",
    "        adj_list, edge_map = updateAdjacencyList(interaction_data, edge_map, adj_list)\n",
    "    else:\n",
    "        dailyUpdateEdgeQueue(edge_map)\n",
    "        adj_list, edge_map = updateAdjacencyList(interaction_data, edge_map, adj_list)\n",
    "    \n",
    "    \n",
    "    possible_infected = tracingBFS(infected_list, adj_list, edge_map)\n",
    "    print (\"Day\", day, len(possible_infected))\n",
    "    y_axis.append(len(possible_infected))\n",
    "    x_axis.append(day)\n",
    "print (adj_list)"
   ]
  },
  {
   "cell_type": "code",
   "execution_count": 281,
   "id": "320f6a19",
   "metadata": {},
   "outputs": [
    {
     "data": {
      "image/png": "[encoded data removed]",
      "text/plain": [
       "<Figure size 432x288 with 1 Axes>"
      ]
     },
     "metadata": {
      "needs_background": "light"
     },
     "output_type": "display_data"
    }
   ],
   "source": [
    "plt.plot(x, y_axis,  label = \"Possibly Infected People\")\n",
    "plt.xlabel(\"The Dth Day\")\n",
    "plt.ylabel(\"Number of Possibly Infected Individuals\")\n",
    "plt.axhline(y=2, color='r',label = \"Inital Infected People\")\n",
    "plt.legend()\n",
    "plt.show()"
   ]
  },
  {
   "cell_type": "code",
   "execution_count": null,
   "id": "ea8d3554",
   "metadata": {},
   "outputs": [],
   "source": []
  }
 ],
 "metadata": {
  "kernelspec": {
   "display_name": "Python 3",
   "language": "python",
   "name": "python3"
  },
  "language_info": {
   "codemirror_mode": {
    "name": "ipython",
    "version": 3
   },
   "file_extension": ".py",
   "mimetype": "text/x-python",
   "name": "python",
   "nbconvert_exporter": "python",
   "pygments_lexer": "ipython3",
   "version": "3.8.8"
  }
 },
 "nbformat": 4,
 "nbformat_minor": 5
}
